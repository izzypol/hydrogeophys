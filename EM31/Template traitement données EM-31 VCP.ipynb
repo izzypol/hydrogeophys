{
 "cells": [
  {
   "cell_type": "markdown",
   "id": "56a7b4bc",
   "metadata": {},
   "source": [
    "# GLQ8780 Camp de terrain - Traitement données EM-31 en VCP "
   ]
  },
  {
   "cell_type": "markdown",
   "id": "d0c27ff9",
   "metadata": {},
   "source": [
    "## Crée par Sébastien Gagnon - 30 juillet 2024"
   ]
  },
  {
   "cell_type": "markdown",
   "id": "428795cb",
   "metadata": {},
   "source": [
    "## Importation des modules"
   ]
  },
  {
   "cell_type": "code",
   "execution_count": null,
   "id": "565022c7",
   "metadata": {},
   "outputs": [],
   "source": [
    "# Si vous voulez faire un krigeage :\n",
    "# pip install pykrige\n",
    "# from pykrige.ok import OrdinaryKriging\n",
    "\n",
    "# Il se peut que vous n'ayez pas toutes ces librairies\n",
    "# Dans le cas échéant, fait un ---> pip install 'nom de la librairie' \n",
    "import pandas as pd\n",
    "import matplotlib.pyplot as plt\n",
    "import numpy as np\n",
    "from scipy.interpolate import griddata"
   ]
  },
  {
   "cell_type": "markdown",
   "id": "dc02ae30",
   "metadata": {},
   "source": [
    "## Extraction des données"
   ]
  },
  {
   "cell_type": "code",
   "execution_count": null,
   "id": "e94d61d3",
   "metadata": {},
   "outputs": [],
   "source": [
    "# Fonction pour lire un fichier .xyz et extraire les colonnes y et conductivity\n",
    "def read_xyz(file_path) :\n",
    "    data = pd.read_csv(file_path, delim_whitespace=True, header=None, skiprows=1, usecols=[0, 2])\n",
    "    data.columns = ['y', 'conductivity']\n",
    "    \n",
    "    return data"
   ]
  },
  {
   "cell_type": "code",
   "execution_count": null,
   "id": "be961e17",
   "metadata": {},
   "outputs": [],
   "source": [
    "# Liste des fichiers .xyz en VCP selon les lignes en X\n",
    "\n",
    "file_paths = [\n",
    "    \"V24-X150.xyz\",\n",
    "    \"V24-X135.xyz\",\n",
    "    \"V24-X120.xyz\",\n",
    "    \"V24-X105.xyz\",\n",
    "    \"V24-X90.xyz\",\n",
    "    \"V25-X75.xyz\",\n",
    "    \"V25-X60.xyz\",\n",
    "    \"V25-X45.xyz\",\n",
    "    \"V25-X30.xyz\",\n",
    "    \"V25-X15.xyz\",\n",
    "    \"V25-X0.xyz\"\n",
    "]"
   ]
  },
  {
   "cell_type": "code",
   "execution_count": null,
   "id": "17720f13",
   "metadata": {},
   "outputs": [],
   "source": [
    "# Positions en X des lignes de la carte de Sorel\n",
    "x_positions = [150, 135, 120, 105, 90, 75, 60, 45, 30, 15, 0]\n",
    "\n",
    "# Plages des valeurs Y dans notre référentiel de la carte de Sorel\n",
    "y_start = 10\n",
    "y_end = 120\n",
    "true_length = y_start - y_end\n",
    "# print(all_data) pour visualiser vos données"
   ]
  },
  {
   "cell_type": "code",
   "execution_count": null,
   "id": "7633690a",
   "metadata": {},
   "outputs": [],
   "source": [
    "# Stocker les données de chaque fichier dans un grand vecteur\n",
    "all_data = []\n",
    "\n",
    "for file_path in file_paths:\n",
    "    line_data = read_xyz(file_path)\n",
    "    \n",
    "    # Normalisation des positions Y avec inversion de l'échelle pour revenir à notre référentiel\n",
    "    y_min = line_data['y'].min()\n",
    "    y_max = line_data['y'].max()\n",
    "    line_data['y'] = y_start - (line_data['y'] - y_min) / (y_max - y_min) * true_length\n",
    "    \n",
    "    all_data.append(line_data)"
   ]
  },
  {
   "cell_type": "markdown",
   "id": "422aa24f",
   "metadata": {},
   "source": [
    "## Graphiques des résultats (À faire séparément par les équipes de rapport)"
   ]
  },
  {
   "cell_type": "code",
   "execution_count": null,
   "id": "b07a4f6c",
   "metadata": {},
   "outputs": [],
   "source": [
    "# Préparer les données pour le graphique\n",
    "x_vals = []\n",
    "y_vals = []\n",
    "conductivity_vals = []\n",
    "\n",
    "for i, line_data in enumerate(all_data):\n",
    "    x = x_positions[i]\n",
    "    x_vals.extend([x] * len(line_data))\n",
    "    y_vals.extend(line_data['y'].tolist())\n",
    "    conductivity_vals.extend(line_data['conductivity'].tolist())\n",
    "\n",
    "# Convertir les listes en arrays numpy pour l'interpolation\n",
    "x_vals = np.array(x_vals)\n",
    "y_vals = np.array(y_vals)\n",
    "conductivity_vals = np.array(conductivity_vals)\n",
    "\n",
    "# Créer la grille pour l'interpolation\n",
    "x_min, x_max = min(x_positions), max(x_positions)\n",
    "y_min, y_max = min(y_vals), max(y_vals)\n",
    "x_grid, y_grid = np.meshgrid(np.linspace(x_min, x_max, 100), np.linspace(y_min, y_max, 100))\n",
    "\n",
    "# Interpoler les valeurs de conductivité sur la grille\n",
    "conductivity_grid = griddata((x_vals, y_vals), conductivity_vals, (x_grid, y_grid), method=\"Votre choix d'interpolateur\")\n",
    "\n",
    "# Générer une colormap avec les valeurs interpolées avec les paramètres de matplotlib\n",
    "plt.figure(figsize=('X, Y de votre choix'))\n",
    "plt.imshow(conductivity_grid, extent= 'Vos limites du graphique aux quatres coins', origin='lower', cmap= 'Votre choix de colormap', aspect='auto')\n",
    "plt.colorbar(label='Votre label')\n",
    "    \n",
    "plt.show()    "
   ]
  }
 ],
 "metadata": {
  "kernelspec": {
   "display_name": "Python 3 (ipykernel)",
   "language": "python",
   "name": "python3"
  },
  "language_info": {
   "codemirror_mode": {
    "name": "ipython",
    "version": 3
   },
   "file_extension": ".py",
   "mimetype": "text/x-python",
   "name": "python",
   "nbconvert_exporter": "python",
   "pygments_lexer": "ipython3",
   "version": "3.9.13"
  }
 },
 "nbformat": 4,
 "nbformat_minor": 5
}
